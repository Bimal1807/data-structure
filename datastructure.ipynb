{
  "nbformat": 4,
  "nbformat_minor": 0,
  "metadata": {
    "colab": {
      "provenance": []
    },
    "kernelspec": {
      "name": "python3",
      "display_name": "Python 3"
    },
    "language_info": {
      "name": "python"
    }
  },
  "cells": [
    {
      "cell_type": "markdown",
      "source": [
        "**THOERY QUESTIONS**"
      ],
      "metadata": {
        "id": "8GTjc7unkReI"
      }
    },
    {
      "cell_type": "markdown",
      "source": [
        "Ques 1- What are data structures, and why are they important?\n",
        "\n",
        "Ans 1- Data structures are a way to organize data so that it can be used by a computer program or system\n",
        "\n",
        "Why are they important?\n",
        "\n",
        "1.  Choosing the right data structure significantly impacts the efficiency and performance of your program.\n",
        "2.   Well-chosen data structures can:\n",
        "3. Simplify data manipulation (adding, removing, modifying elements)\n",
        "4. Optimize searching and sorting operations\n",
        "5. Conserve memory usage\n"
      ],
      "metadata": {
        "id": "hdrJsAghkZdS"
      }
    },
    {
      "cell_type": "markdown",
      "source": [
        "Ques 2- Explain the difference between mutuable and immutable data types with examples.\n",
        "\n",
        "Ans 2- The main difference between mutable and immutable data types is that mutable data types can be changed after they are created, while immutable data types cannot:\n",
        "\n",
        "**Mutable data types**\n",
        "\n",
        "These data types can be modified after they are created. Examples include lists, dictionaries, and sets.\n",
        "\n",
        "**Immutable data types**\n",
        "\n",
        "These data types cannot be changed once they are created. Examples include strings, tuples, integers, and floats."
      ],
      "metadata": {
        "id": "pkvaGPoaov53"
      }
    },
    {
      "cell_type": "markdown",
      "source": [
        "Ques 3-  What are the main differences between lists and tuples in Python?\n",
        "\n",
        "Ans 3- The main differences between lists and tuples in Python are:\n",
        "\n",
        "*  **Mutability:** Lists are mutable, meaning their elements can be changed, while\n",
        "tuples are immutable, meaning their elements cannot be changed.  \n",
        "* **Memory efficiency:** Tuples are more memory efficient than lists.\n",
        "* **Speed:** Tuples are faster than lists, especially for looking up values.\n",
        "* **Brackets:** Lists use square brackets, while tuples use round brackets.\n",
        "* **Methods:** Lists support a wider range of methods for manipulating elements, such as appending, inserting, and removing. Tuples provide basic operations for retrieving information, such as the length or index of an element.\n",
        "* **Data types:** Lists can store elements of different types, while tuples usually contain a sequence of heterogeneous elements.\n",
        "* **Use cases:** Tuples are safer for storing constant data that should not be changed."
      ],
      "metadata": {
        "id": "0NAX1Smn9Au7"
      }
    },
    {
      "cell_type": "markdown",
      "source": [
        "Ques 4- Describe how dictionaries store data.\n",
        "\n",
        "Ans - python's dictionary allows you to store key-value pairs, and then pass the dictionary a key to quickly retrieve its corresponding value."
      ],
      "metadata": {
        "id": "-F3_Ev5I_M5r"
      }
    },
    {
      "cell_type": "markdown",
      "source": [
        "Ques 5- Why might you use a set instead of a list in Python?\n",
        "\n",
        "Ans 5- Because sets is highly optimized for membership tests in phython."
      ],
      "metadata": {
        "id": "Kn7sicnb_orj"
      }
    },
    {
      "cell_type": "markdown",
      "source": [
        "Ques 6- What is a string in Python, and how is it different from a list?\n",
        "\n",
        "Ans 6- A string is a sequence of characters between single or double quotes. A list is a sequence of items, where each item could be anything (an integer, a float, a string, etc)."
      ],
      "metadata": {
        "id": "us3Pdic5ApA4"
      }
    },
    {
      "cell_type": "markdown",
      "source": [
        "Ques 7- How do tuples ensure data integrity in Python?\n",
        "\n",
        "Ans 7- Tuples are immutable to ensure that their contents remain constant throughout their lifecycle, guaranteeing data integrity and reliability. This immutability allows tuples to be used as keys in dictionaries and elements in sets, as they can be hashed."
      ],
      "metadata": {
        "id": "opUDT_S1BOMJ"
      }
    },
    {
      "cell_type": "markdown",
      "source": [
        "Ques 8- What is a hash table, and how does it relate to dictionaries in Python?\n",
        "\n",
        "Ans 8- A hash table is a data structure that stores key-value pairs in an array format, with each value having a unique index. The hash value of a key determines which bucket to use for that data\n",
        "\n",
        "Python dictionaries are implemented using hash tables. The keys in a Python dictionary are hashable, meaning they are generated by a hash function that produces a unique result for each value."
      ],
      "metadata": {
        "id": "l9W4jJyZBXNh"
      }
    },
    {
      "cell_type": "markdown",
      "source": [
        "Ques 9- Can lists contain different data types in Python?\n",
        "\n",
        "Ans 9- A list can also contain a mix of Python types including strings, floats, and booleans."
      ],
      "metadata": {
        "id": "RuUiu76WBvVp"
      }
    },
    {
      "cell_type": "markdown",
      "source": [
        "Ques 10- Explain why strings are immutable in Python.\n",
        "\n",
        "Ans 10- Python strings are \"immutable\" which means they cannot be changed after they are created. Since strings can't be changed, we construct *new* strings as we go to represent computed values."
      ],
      "metadata": {
        "id": "eVj7cMieCLO5"
      }
    },
    {
      "cell_type": "markdown",
      "source": [
        "\n",
        "Ques 11 -What advantages do dictionaries offer over lists for certain tasks?\n",
        "\n",
        "Ans 11- Dictionaries offer several advantages over lists for certain tasks, including (Fast lookups,Flexibility,Easy to read,Memory efficient,Narrow down searches)."
      ],
      "metadata": {
        "id": "jedsmdiMCkTN"
      }
    },
    {
      "cell_type": "markdown",
      "source": [
        "Ques 12- Describe a scenario where using a tuple would be preferable over a list.\n",
        "\n",
        "Ans 12- Use a tuple if you need an immutable collection where the elements won't change after creation. Tuples are generally faster and more memory-efficient than lists, making them better for fixed collections, especially as dictionary keys or when iteration speed is crucial."
      ],
      "metadata": {
        "id": "Bc5MFYte3woM"
      }
    },
    {
      "cell_type": "markdown",
      "source": [
        "Ques 13-How do sets handle duplicate values in Python?\n",
        "\n",
        "Ans 13- Items of a set in python are immutable (unchangeable), do not duplicate values, and unordered. Thus, items in a set do not appear in a stipulated manner, i.e., they can appear in a different order every time it is used. Due to this, set items cannot be referred to by key or index."
      ],
      "metadata": {
        "id": "IP5-ymOb4azb"
      }
    },
    {
      "cell_type": "markdown",
      "source": [
        "Ques 14- How does the “in” keyword work differently for lists and dictionaries?\n",
        "\n",
        "Ans 14-The meaning is the same, but the implementation is different. Lists simply examine each object, checking for equality, so it works for your class. Sets first hash the objects, and if they don't implement hash properly, the set appears not to work."
      ],
      "metadata": {
        "id": "2TFA67h34yV_"
      }
    },
    {
      "cell_type": "markdown",
      "source": [
        "Ques 15- Can you modify the elements of a tuple? Explain why or why not?\n",
        "\n",
        "Ans 15- No, you cannot modify the elements of a tuple in Python because tuples are \"immutable,\" meaning once created, their elements cannot be changed, added, or removed; unlike lists which are mutable and allow for element modification."
      ],
      "metadata": {
        "id": "jYLB6j2F6u6H"
      }
    },
    {
      "cell_type": "markdown",
      "source": [
        "Ques 16- What is a nested dictionary, and give an example of its use case?\n",
        "\n",
        "Ans 16- A nested dictionary is a dictionary that is stored as a value within another dictionary. It's a way to organize data with multiple layers, and is useful for representing information in programs\n",
        "\n",
        "Examples (Employee records,Inventory systems,JSON data)\n"
      ],
      "metadata": {
        "id": "PYyaGeuJ7P6h"
      }
    },
    {
      "cell_type": "markdown",
      "source": [
        "Ques 17- Describe the time complexity of accessing elements in a dictionary?\n",
        "\n",
        "Ans 17- The time complexity of accessing elements in a Python dictionary is usually O(1), which means that it takes a constant amount of time to retrieve an element, regardless of the size of the dictionary."
      ],
      "metadata": {
        "id": "pMrhfgur7839"
      }
    },
    {
      "cell_type": "markdown",
      "source": [
        "Ques 18- In what situations are lists preferred over dictionaries?\n",
        "\n",
        "Ans 18- If you need an ordered collection, like a sequence of user actions, lists are your go-to. On the other hand, when you need quick look-ups, like mapping usernames to user data, dictionaries are invaluable."
      ],
      "metadata": {
        "id": "glp73x5o8Tjv"
      }
    },
    {
      "cell_type": "markdown",
      "source": [
        "Ques 19- Why are dictionaries considered unordered, and how does that affect data retrieval?\n",
        "\n",
        "Ans 19- A dictionary is termed an unordered collection of objects because dictionaries do not maintain any inherent order of the items based on when they were added. In older versions of Python, dictionaries did not preserve insertion order at all. This meant that when you accessed or printed the items, the order could vary, as dictionaries were optimized for fast lookups rather than maintaining order."
      ],
      "metadata": {
        "id": "uuN2fsMk8u5O"
      }
    },
    {
      "cell_type": "markdown",
      "source": [
        "Ques 20- Explain the difference between a list and a dictionary in terms of data retrieval.\n",
        "\n",
        "Ans 20- A list is an ordered collection of items, whereas a dictionary is an unordered data collection in a key: value pair. Elements from the list can be accessed using the index, while the elements of the dictionary can be accessed using keys."
      ],
      "metadata": {
        "id": "BkC6Lyd69VQY"
      }
    },
    {
      "cell_type": "markdown",
      "source": [
        "**PRACTICAL QUESTIONS**"
      ],
      "metadata": {
        "id": "AMiKP9th9gWf"
      }
    },
    {
      "cell_type": "markdown",
      "source": [
        "Ques 1- Write a code to create a string with your name and print it.\n"
      ],
      "metadata": {
        "id": "E1hAxzf79qVY"
      }
    },
    {
      "cell_type": "code",
      "source": [
        "#Ans 1-\n",
        "\n",
        "name = \"Bimal Sharma\"\n",
        "print(name)"
      ],
      "metadata": {
        "colab": {
          "base_uri": "https://localhost:8080/"
        },
        "id": "Fhlt5sRG--iP",
        "outputId": "d1795cba-4d46-420f-daf1-ace51a4d71fc"
      },
      "execution_count": null,
      "outputs": [
        {
          "output_type": "stream",
          "name": "stdout",
          "text": [
            "Bimal Sharma\n"
          ]
        }
      ]
    },
    {
      "cell_type": "markdown",
      "source": [
        "Ques 2- Write a code to find the length of the string \"Hello World\"."
      ],
      "metadata": {
        "id": "G-wExp0l_qMe"
      }
    },
    {
      "cell_type": "code",
      "source": [
        "#Ans 2-\n",
        "\n",
        "string = \"Hello World\"\n",
        "print(len(string))"
      ],
      "metadata": {
        "colab": {
          "base_uri": "https://localhost:8080/"
        },
        "id": "1WSN3YOX_vHE",
        "outputId": "b2f0e2b9-1780-4c95-c0aa-6d4bec0b687c"
      },
      "execution_count": null,
      "outputs": [
        {
          "output_type": "stream",
          "name": "stdout",
          "text": [
            "11\n"
          ]
        }
      ]
    },
    {
      "cell_type": "markdown",
      "source": [
        "Ques 3- Write a code to slice the first 3 characters from the string \"Python Programming\"."
      ],
      "metadata": {
        "id": "ekbt3OAD_8R0"
      }
    },
    {
      "cell_type": "code",
      "source": [
        "#Ans 3-\n",
        "\n",
        "string = \"Python Programming\"\n",
        "print(string[0:3])"
      ],
      "metadata": {
        "colab": {
          "base_uri": "https://localhost:8080/"
        },
        "id": "Y_iquIK7__zT",
        "outputId": "70205ce1-8881-4548-f3ed-2ebe97d3f6a0"
      },
      "execution_count": null,
      "outputs": [
        {
          "output_type": "stream",
          "name": "stdout",
          "text": [
            "Pyt\n"
          ]
        }
      ]
    },
    {
      "cell_type": "markdown",
      "source": [
        "Ques 4- Write a code to convert the string \"hello\" to uppercase.\n",
        "\n"
      ],
      "metadata": {
        "id": "zWhW-j7BANZl"
      }
    },
    {
      "cell_type": "code",
      "source": [
        "#Ans 4-\n",
        "\n",
        "text = \"hello\"\n",
        "uppercase_text = text.upper()\n",
        "print(uppercase_text)"
      ],
      "metadata": {
        "colab": {
          "base_uri": "https://localhost:8080/"
        },
        "id": "6Guz14339nq5",
        "outputId": "9d983e5c-9952-40e5-9445-47191eb5d3e8"
      },
      "execution_count": null,
      "outputs": [
        {
          "output_type": "stream",
          "name": "stdout",
          "text": [
            "HELLO\n"
          ]
        }
      ]
    },
    {
      "cell_type": "markdown",
      "source": [
        "Ques 5- Write a code to replace the word \"apple\" with \"orange\" in the string \"I like apple\"."
      ],
      "metadata": {
        "id": "9Kbt3xfMfjX0"
      }
    },
    {
      "cell_type": "code",
      "source": [
        "#Ans 5-\n",
        "\n",
        "text = \"I like apple\"\n",
        "new_text = text.replace(\"apple\", \"orange\")\n",
        "print(new_text)"
      ],
      "metadata": {
        "id": "Vrqbxs9IAkXS",
        "colab": {
          "base_uri": "https://localhost:8080/"
        },
        "outputId": "910140f6-c95b-403f-8602-50b94ca5dcd6"
      },
      "execution_count": 1,
      "outputs": [
        {
          "output_type": "stream",
          "name": "stdout",
          "text": [
            "I like orange\n"
          ]
        }
      ]
    },
    {
      "cell_type": "markdown",
      "source": [
        "Ques 6- Write a code to create a list with numbers 1 to 5 and print it.\n"
      ],
      "metadata": {
        "id": "opSTNltKf9hP"
      }
    },
    {
      "cell_type": "code",
      "source": [
        "#Ans 6-\n",
        "\n",
        "numbers = [1, 2, 3, 4, 5]\n",
        "print(numbers)"
      ],
      "metadata": {
        "colab": {
          "base_uri": "https://localhost:8080/"
        },
        "id": "EflOuVK5gBCe",
        "outputId": "f065df4d-229f-4ff3-bb06-ddae6d70a638"
      },
      "execution_count": 2,
      "outputs": [
        {
          "output_type": "stream",
          "name": "stdout",
          "text": [
            "[1, 2, 3, 4, 5]\n"
          ]
        }
      ]
    },
    {
      "cell_type": "markdown",
      "source": [
        "Ques 7- Write a code to append the number 10 to the list [1, 2, 3, 4].\n"
      ],
      "metadata": {
        "id": "HMGQWTwLgMuH"
      }
    },
    {
      "cell_type": "code",
      "source": [
        "#Ans 7-\n",
        "\n",
        "numbers = [1, 2, 3, 4]\n",
        "numbers.append(10)\n",
        "print(numbers)"
      ],
      "metadata": {
        "colab": {
          "base_uri": "https://localhost:8080/"
        },
        "id": "jnKwCU5IgQ-1",
        "outputId": "29d672d4-ac0c-4e07-cf17-67a80994554f"
      },
      "execution_count": 3,
      "outputs": [
        {
          "output_type": "stream",
          "name": "stdout",
          "text": [
            "[1, 2, 3, 4, 10]\n"
          ]
        }
      ]
    },
    {
      "cell_type": "markdown",
      "source": [
        "Ques 8- Write a code to remove the number 3 from the list [1, 2, 3, 4, 5].\n"
      ],
      "metadata": {
        "id": "nTJ62MP2gv1h"
      }
    },
    {
      "cell_type": "code",
      "source": [
        "#Ans 8-\n",
        "\n",
        "numbers = [1, 2, 3, 4, 5]\n",
        "numbers.remove(3)\n",
        "print(numbers)"
      ],
      "metadata": {
        "colab": {
          "base_uri": "https://localhost:8080/"
        },
        "id": "AbmUDkxog0QF",
        "outputId": "1cd60802-5c94-4c99-a011-ed6b4891b7a5"
      },
      "execution_count": 4,
      "outputs": [
        {
          "output_type": "stream",
          "name": "stdout",
          "text": [
            "[1, 2, 4, 5]\n"
          ]
        }
      ]
    },
    {
      "cell_type": "markdown",
      "source": [
        "Ques 9- Write a code to access the second element in the list ['a', 'b', 'c', 'd']."
      ],
      "metadata": {
        "id": "9DWJ3ULahA2m"
      }
    },
    {
      "cell_type": "code",
      "source": [
        "#Ans 9-\n",
        "\n",
        "letters = ['a', 'b', 'c', 'd']\n",
        "print(letters[1])"
      ],
      "metadata": {
        "colab": {
          "base_uri": "https://localhost:8080/"
        },
        "id": "jUOi3acahEE4",
        "outputId": "0a24169d-884a-4b48-8168-c65088d4fac9"
      },
      "execution_count": 5,
      "outputs": [
        {
          "output_type": "stream",
          "name": "stdout",
          "text": [
            "b\n"
          ]
        }
      ]
    },
    {
      "cell_type": "markdown",
      "source": [
        "Ques 10-  Write a code to reverse the list [10, 20, 30, 40, 50]."
      ],
      "metadata": {
        "id": "wRRq-4-rhQPy"
      }
    },
    {
      "cell_type": "code",
      "source": [
        "#Ans 10-\n",
        "\n",
        "numbers = [10, 20, 30, 40, 50]\n",
        "numbers.reverse()\n",
        "print(numbers)"
      ],
      "metadata": {
        "colab": {
          "base_uri": "https://localhost:8080/"
        },
        "id": "sYUWW8Sxfwql",
        "outputId": "b9edd583-8a1e-420d-f6dc-73fcfe942380"
      },
      "execution_count": 6,
      "outputs": [
        {
          "output_type": "stream",
          "name": "stdout",
          "text": [
            "[50, 40, 30, 20, 10]\n"
          ]
        }
      ]
    },
    {
      "cell_type": "markdown",
      "source": [
        "Ques 11- Write a code to create a tuple with the elements 10, 20, 30 and print it.\n"
      ],
      "metadata": {
        "id": "KZ6L4ErEhiO0"
      }
    },
    {
      "cell_type": "code",
      "source": [
        "#Ans 11-\n",
        "\n",
        "numbers = (10, 20, 30)\n",
        "print(numbers)"
      ],
      "metadata": {
        "colab": {
          "base_uri": "https://localhost:8080/"
        },
        "id": "3NTeacKbhZ2K",
        "outputId": "2e331570-0156-473a-d60c-825d0a2a1e62"
      },
      "execution_count": 7,
      "outputs": [
        {
          "output_type": "stream",
          "name": "stdout",
          "text": [
            "(10, 20, 30)\n"
          ]
        }
      ]
    },
    {
      "cell_type": "markdown",
      "source": [
        "Ques 12- Write a code to access the first element of the tuple ('apple', 'banana', 'cherry')."
      ],
      "metadata": {
        "id": "TPjbS6pth3gM"
      }
    },
    {
      "cell_type": "code",
      "source": [
        "#Ans 12-\n",
        "\n",
        "tuple=('apple', 'banana', 'cherry')\n",
        "first_element = tuple[0]\n",
        "print(first_element)"
      ],
      "metadata": {
        "colab": {
          "base_uri": "https://localhost:8080/"
        },
        "id": "27Uhg2_JhwfJ",
        "outputId": "b3d321ee-897b-41b2-c558-4a161a44396f"
      },
      "execution_count": 8,
      "outputs": [
        {
          "output_type": "stream",
          "name": "stdout",
          "text": [
            "apple\n"
          ]
        }
      ]
    },
    {
      "cell_type": "markdown",
      "source": [
        "Ques 13- Write a code to count how many times the number 2 appears in the tuple (1, 2, 3, 2, 4, 2).\n"
      ],
      "metadata": {
        "id": "AyopkfAli7XR"
      }
    },
    {
      "cell_type": "code",
      "source": [
        "#Ans 13-\n",
        "\n",
        "numbers = (1, 2, 3, 2, 4, 2)\n",
        "count = numbers.count(2)\n",
        "print(count)"
      ],
      "metadata": {
        "colab": {
          "base_uri": "https://localhost:8080/"
        },
        "id": "1czK_HKUi1W1",
        "outputId": "bafa5d77-8627-4bf8-add9-b9caa6e82a70"
      },
      "execution_count": 9,
      "outputs": [
        {
          "output_type": "stream",
          "name": "stdout",
          "text": [
            "3\n"
          ]
        }
      ]
    },
    {
      "cell_type": "markdown",
      "source": [
        "Ques 14- Write a code to find the index of the element \"cat\" in the tuple ('dog', 'cat', 'rabbit')."
      ],
      "metadata": {
        "id": "XvcocpI5jKj7"
      }
    },
    {
      "cell_type": "code",
      "source": [
        "#Ans 14-\n",
        "\n",
        "tuple = ('dog', 'cat', 'rabbit')\n",
        "index = tuple.index('cat')\n",
        "print(index)"
      ],
      "metadata": {
        "colab": {
          "base_uri": "https://localhost:8080/"
        },
        "id": "lmi-hGOujH-s",
        "outputId": "181572a2-7b7e-4d45-f454-e5fceb5a9d6b"
      },
      "execution_count": 10,
      "outputs": [
        {
          "output_type": "stream",
          "name": "stdout",
          "text": [
            "1\n"
          ]
        }
      ]
    },
    {
      "cell_type": "markdown",
      "source": [
        "Ques 15- Write a code to check if the element \"banana\" is in the tuple ('apple', 'orange', 'banana')."
      ],
      "metadata": {
        "id": "Q0zuqgVDorLu"
      }
    },
    {
      "cell_type": "code",
      "source": [
        "#Ans 15-\n",
        "\n",
        "tuple = ('apple', 'orange', 'banana')\n",
        "if 'banana' in tuple:\n",
        "    print(\"banana is in the tuple\")\n",
        "else:\n",
        "    print(\"banana is not in the tuple\")"
      ],
      "metadata": {
        "colab": {
          "base_uri": "https://localhost:8080/"
        },
        "id": "MImOS9ZFjaoE",
        "outputId": "80c8741a-ca50-4433-f7bf-927a9a71b1fe"
      },
      "execution_count": 11,
      "outputs": [
        {
          "output_type": "stream",
          "name": "stdout",
          "text": [
            "banana is in the tuple\n"
          ]
        }
      ]
    },
    {
      "cell_type": "markdown",
      "source": [
        "Ques 16- Write a code to create a set with the elements 1, 2, 3, 4, 5 and print it."
      ],
      "metadata": {
        "id": "Z3LJwJY7pMrd"
      }
    },
    {
      "cell_type": "code",
      "source": [
        "#Ans 16-\n",
        "\n",
        "numbers = {1, 2, 3, 4, 5}\n",
        "print(numbers)"
      ],
      "metadata": {
        "colab": {
          "base_uri": "https://localhost:8080/"
        },
        "id": "irqINyYlo402",
        "outputId": "7d4232cf-2659-4307-a418-3cd89d4c664d"
      },
      "execution_count": 12,
      "outputs": [
        {
          "output_type": "stream",
          "name": "stdout",
          "text": [
            "{1, 2, 3, 4, 5}\n"
          ]
        }
      ]
    },
    {
      "cell_type": "markdown",
      "source": [
        "Ques 17- Write a code to add the element 6 to the set {1, 2, 3, 4}.\n"
      ],
      "metadata": {
        "id": "9pB3Q5XTpaos"
      }
    },
    {
      "cell_type": "code",
      "source": [
        "#Ans 17-\n",
        "\n",
        "numbers = {1, 2, 3, 4}\n",
        "numbers.add(6)\n",
        "print(numbers)"
      ],
      "metadata": {
        "colab": {
          "base_uri": "https://localhost:8080/"
        },
        "id": "o3nucbDApSyI",
        "outputId": "02c966dd-182c-4569-a907-558aa7243096"
      },
      "execution_count": 13,
      "outputs": [
        {
          "output_type": "stream",
          "name": "stdout",
          "text": [
            "{1, 2, 3, 4, 6}\n"
          ]
        }
      ]
    },
    {
      "cell_type": "markdown",
      "source": [
        "Ques 18- Write a code to create a tuple with the elements 10, 20, 30 and print it."
      ],
      "metadata": {
        "id": "4j6MXTYNpoy4"
      }
    },
    {
      "cell_type": "code",
      "source": [
        "#Ans 18-\n",
        "\n",
        "numbers = (10, 20, 30)\n",
        "print(numbers)"
      ],
      "metadata": {
        "colab": {
          "base_uri": "https://localhost:8080/"
        },
        "id": "zy1twTCBplRf",
        "outputId": "07906e45-7cae-42b9-f22d-04b56609b9fd"
      },
      "execution_count": 14,
      "outputs": [
        {
          "output_type": "stream",
          "name": "stdout",
          "text": [
            "(10, 20, 30)\n"
          ]
        }
      ]
    },
    {
      "cell_type": "markdown",
      "source": [
        "Ques 19- Write a code to access the first element of the tuple ('apple', 'banana', 'cherry')."
      ],
      "metadata": {
        "id": "w0hHjgIYp3XR"
      }
    },
    {
      "cell_type": "code",
      "source": [
        "#Ans 19-\n",
        "\n",
        "tuple = ('apple', 'banana', 'cherry')\n",
        "first_element = tuple[0]\n",
        "print(first_element)"
      ],
      "metadata": {
        "colab": {
          "base_uri": "https://localhost:8080/"
        },
        "id": "HeoaqzCspzBv",
        "outputId": "a8713565-2f91-4d3f-c44f-c66846c38979"
      },
      "execution_count": 15,
      "outputs": [
        {
          "output_type": "stream",
          "name": "stdout",
          "text": [
            "apple\n"
          ]
        }
      ]
    },
    {
      "cell_type": "markdown",
      "source": [
        "Ques 20- Write a code to count how many times the number 2 appears in the tuple (1, 2, 3, 2, 4, 2)."
      ],
      "metadata": {
        "id": "zzRvzpupqJkm"
      }
    },
    {
      "cell_type": "code",
      "source": [
        "#Ans 20-\n",
        "\n",
        "numbers = (1, 2, 3, 2, 4, 2)\n",
        "count = numbers.count(2)\n",
        "print(count)"
      ],
      "metadata": {
        "colab": {
          "base_uri": "https://localhost:8080/"
        },
        "id": "E4maW4A0qCGE",
        "outputId": "adb9c729-7fd6-4033-eae7-dd461c20bfb1"
      },
      "execution_count": 16,
      "outputs": [
        {
          "output_type": "stream",
          "name": "stdout",
          "text": [
            "3\n"
          ]
        }
      ]
    },
    {
      "cell_type": "markdown",
      "source": [
        "Ques 21- Write a code to find the index of the element \"cat\" in the tuple ('dog', 'cat', 'rabbit')."
      ],
      "metadata": {
        "id": "c2BnWfqZq6Mk"
      }
    },
    {
      "cell_type": "code",
      "source": [
        "#Ans 21-\n",
        "\n",
        "tuple = ('dog', 'cat', 'rabbit')\n",
        "index = tuple.index('cat')\n",
        "print(index)"
      ],
      "metadata": {
        "colab": {
          "base_uri": "https://localhost:8080/"
        },
        "id": "orcvjQdZqSBD",
        "outputId": "8e678b48-8a45-4690-ef89-a3d628ae396e"
      },
      "execution_count": 17,
      "outputs": [
        {
          "output_type": "stream",
          "name": "stdout",
          "text": [
            "1\n"
          ]
        }
      ]
    },
    {
      "cell_type": "markdown",
      "source": [
        "Ques 22-Write a code to check if the element \"banana\" is in the tuple ('apple', 'orange', 'banana')."
      ],
      "metadata": {
        "id": "LjRqXMeWrG2_"
      }
    },
    {
      "cell_type": "code",
      "source": [
        "#Ans 22-\n",
        "\n",
        "tuple = ('apple', 'orange', 'banana')\n",
        "if 'banana' in tuple:\n",
        "    print(\"banana is in the tuple\")\n",
        "else:\n",
        "    print(\"banana is not in the tuple\")"
      ],
      "metadata": {
        "colab": {
          "base_uri": "https://localhost:8080/"
        },
        "id": "FXaAQPx9rDhW",
        "outputId": "5bb1a325-9048-4560-86bc-e427c2311dfc"
      },
      "execution_count": 18,
      "outputs": [
        {
          "output_type": "stream",
          "name": "stdout",
          "text": [
            "banana is in the tuple\n"
          ]
        }
      ]
    },
    {
      "cell_type": "markdown",
      "source": [
        "Ques 23- Write a code to create a set with the elements 1, 2, 3, 4, 5 and print it."
      ],
      "metadata": {
        "id": "AswwZ7EurV5P"
      }
    },
    {
      "cell_type": "code",
      "source": [
        "#Ans 23-\n",
        "\n",
        "numbers = {1, 2, 3, 4, 5}\n",
        "print(numbers)"
      ],
      "metadata": {
        "colab": {
          "base_uri": "https://localhost:8080/"
        },
        "id": "uyYH6-4crQsa",
        "outputId": "1411b019-4e85-42e7-c3a0-2bfccd74d988"
      },
      "execution_count": 19,
      "outputs": [
        {
          "output_type": "stream",
          "name": "stdout",
          "text": [
            "{1, 2, 3, 4, 5}\n"
          ]
        }
      ]
    },
    {
      "cell_type": "markdown",
      "source": [
        "Ques 24-  Write a code to add the element 6 to the set {1, 2, 3, 4}.\n"
      ],
      "metadata": {
        "id": "E7SE9XPgrjbm"
      }
    },
    {
      "cell_type": "code",
      "source": [
        "#Ans 24-\n",
        "\n",
        "numbers = {1, 2, 3, 4}\n",
        "numbers.add(6)\n",
        "print(numbers)"
      ],
      "metadata": {
        "colab": {
          "base_uri": "https://localhost:8080/"
        },
        "id": "qbionbb2rfbV",
        "outputId": "b73dfa6d-809e-4485-dd4e-cb0243f0c720"
      },
      "execution_count": 20,
      "outputs": [
        {
          "output_type": "stream",
          "name": "stdout",
          "text": [
            "{1, 2, 3, 4, 6}\n"
          ]
        }
      ]
    },
    {
      "cell_type": "code",
      "source": [],
      "metadata": {
        "id": "-Cl9l7CLrtrc"
      },
      "execution_count": null,
      "outputs": []
    }
  ]
}